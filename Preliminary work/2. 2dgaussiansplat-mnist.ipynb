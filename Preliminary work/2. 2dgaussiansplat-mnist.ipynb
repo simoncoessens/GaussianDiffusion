{
 "cells": [
  {
   "cell_type": "code",
   "execution_count": 1,
   "id": "797dbdc9",
   "metadata": {
    "_cell_guid": "b1076dfc-b9ad-4769-8c92-a6c4dae69d19",
    "_uuid": "8f2839f25d086af736a60e9eeb907d3b93b6e0e5",
    "execution": {
     "iopub.execute_input": "2024-10-18T11:44:16.326705Z",
     "iopub.status.busy": "2024-10-18T11:44:16.326389Z",
     "iopub.status.idle": "2024-10-18T11:44:25.481323Z",
     "shell.execute_reply": "2024-10-18T11:44:25.480316Z"
    },
    "papermill": {
     "duration": 9.161333,
     "end_time": "2024-10-18T11:44:25.484061",
     "exception": false,
     "start_time": "2024-10-18T11:44:16.322728",
     "status": "completed"
    },
    "tags": []
   },
   "outputs": [
    {
     "name": "stdout",
     "output_type": "stream",
     "text": [
      "Downloading http://yann.lecun.com/exdb/mnist/train-images-idx3-ubyte.gz\n",
      "Failed to download (trying next):\n",
      "HTTP Error 403: Forbidden\n",
      "\n",
      "Downloading https://ossci-datasets.s3.amazonaws.com/mnist/train-images-idx3-ubyte.gz\n",
      "Downloading https://ossci-datasets.s3.amazonaws.com/mnist/train-images-idx3-ubyte.gz to ./data/MNIST/raw/train-images-idx3-ubyte.gz\n"
     ]
    },
    {
     "name": "stderr",
     "output_type": "stream",
     "text": [
      "100%|██████████| 9912422/9912422 [00:01<00:00, 6474348.90it/s]\n"
     ]
    },
    {
     "name": "stdout",
     "output_type": "stream",
     "text": [
      "Extracting ./data/MNIST/raw/train-images-idx3-ubyte.gz to ./data/MNIST/raw\n",
      "\n",
      "Downloading http://yann.lecun.com/exdb/mnist/train-labels-idx1-ubyte.gz\n",
      "Failed to download (trying next):\n",
      "HTTP Error 403: Forbidden\n",
      "\n",
      "Downloading https://ossci-datasets.s3.amazonaws.com/mnist/train-labels-idx1-ubyte.gz\n",
      "Downloading https://ossci-datasets.s3.amazonaws.com/mnist/train-labels-idx1-ubyte.gz to ./data/MNIST/raw/train-labels-idx1-ubyte.gz\n"
     ]
    },
    {
     "name": "stderr",
     "output_type": "stream",
     "text": [
      "100%|██████████| 28881/28881 [00:00<00:00, 358929.08it/s]\n"
     ]
    },
    {
     "name": "stdout",
     "output_type": "stream",
     "text": [
      "Extracting ./data/MNIST/raw/train-labels-idx1-ubyte.gz to ./data/MNIST/raw\n",
      "\n",
      "Downloading http://yann.lecun.com/exdb/mnist/t10k-images-idx3-ubyte.gz\n",
      "Failed to download (trying next):\n",
      "HTTP Error 403: Forbidden\n",
      "\n",
      "Downloading https://ossci-datasets.s3.amazonaws.com/mnist/t10k-images-idx3-ubyte.gz\n",
      "Downloading https://ossci-datasets.s3.amazonaws.com/mnist/t10k-images-idx3-ubyte.gz to ./data/MNIST/raw/t10k-images-idx3-ubyte.gz\n"
     ]
    },
    {
     "name": "stderr",
     "output_type": "stream",
     "text": [
      "100%|██████████| 1648877/1648877 [00:00<00:00, 2645038.18it/s]\n"
     ]
    },
    {
     "name": "stdout",
     "output_type": "stream",
     "text": [
      "Extracting ./data/MNIST/raw/t10k-images-idx3-ubyte.gz to ./data/MNIST/raw\n",
      "\n",
      "Downloading http://yann.lecun.com/exdb/mnist/t10k-labels-idx1-ubyte.gz\n",
      "Failed to download (trying next):\n",
      "HTTP Error 403: Forbidden\n",
      "\n",
      "Downloading https://ossci-datasets.s3.amazonaws.com/mnist/t10k-labels-idx1-ubyte.gz\n",
      "Downloading https://ossci-datasets.s3.amazonaws.com/mnist/t10k-labels-idx1-ubyte.gz to ./data/MNIST/raw/t10k-labels-idx1-ubyte.gz\n"
     ]
    },
    {
     "name": "stderr",
     "output_type": "stream",
     "text": [
      "100%|██████████| 4542/4542 [00:00<00:00, 1242695.94it/s]"
     ]
    },
    {
     "name": "stdout",
     "output_type": "stream",
     "text": [
      "Extracting ./data/MNIST/raw/t10k-labels-idx1-ubyte.gz to ./data/MNIST/raw\n",
      "\n"
     ]
    },
    {
     "name": "stderr",
     "output_type": "stream",
     "text": [
      "\n"
     ]
    }
   ],
   "source": [
    "import torch\n",
    "import torchvision\n",
    "import torchvision.transforms as transforms\n",
    "\n",
    "# Set device\n",
    "device = torch.device('cuda' if torch.cuda.is_available() else 'cpu')\n",
    "\n",
    "# Define transform to convert images to tensors\n",
    "transform = transforms.Compose([\n",
    "    transforms.ToTensor(),  # Converts PIL image to PyTorch tensor\n",
    "])\n",
    "\n",
    "# Load the MNIST dataset\n",
    "mnist_dataset = torchvision.datasets.MNIST(root='./data', train=False, download=True, transform=transform)\n",
    "\n",
    "# Select one image and its label (e.g., the first one)\n",
    "mnist_image, label = mnist_dataset[0]  # mnist_image shape: [1, 28, 28]\n"
   ]
  },
  {
   "cell_type": "code",
   "execution_count": 2,
   "id": "dbbd95c2",
   "metadata": {
    "execution": {
     "iopub.execute_input": "2024-10-18T11:44:25.499454Z",
     "iopub.status.busy": "2024-10-18T11:44:25.499025Z",
     "iopub.status.idle": "2024-10-18T11:44:25.517101Z",
     "shell.execute_reply": "2024-10-18T11:44:25.516175Z"
    },
    "papermill": {
     "duration": 0.027848,
     "end_time": "2024-10-18T11:44:25.519028",
     "exception": false,
     "start_time": "2024-10-18T11:44:25.491180",
     "status": "completed"
    },
    "tags": []
   },
   "outputs": [],
   "source": [
    "import torch.nn.functional as F\n",
    "\n",
    "def generate_2D_gaussian_splatting(kernel_size, sigma_x, sigma_y, rho, coords, colours, image_size=(28, 28), channels=1, device=\"cpu\"):\n",
    "    batch_size = colours.shape[0]\n",
    "\n",
    "    # Reshape sigma and rho\n",
    "    sigma_x = sigma_x.view(batch_size, 1, 1)\n",
    "    sigma_y = sigma_y.view(batch_size, 1, 1)\n",
    "    rho = rho.view(batch_size, 1, 1)\n",
    "\n",
    "    # Create covariance matrices\n",
    "    covariance = torch.stack(\n",
    "        [torch.stack([sigma_x**2, rho * sigma_x * sigma_y], dim=-1),\n",
    "         torch.stack([rho * sigma_x * sigma_y, sigma_y**2], dim=-1)],\n",
    "        dim=-2\n",
    "    )\n",
    "\n",
    "    # Check for positive semi-definiteness\n",
    "    determinant = (sigma_x**2) * (sigma_y**2) - (rho * sigma_x * sigma_y)**2\n",
    "    if (determinant <= 0).any():\n",
    "        raise ValueError(\"Covariance matrix must be positive semi-definite\")\n",
    "\n",
    "    inv_covariance = torch.inverse(covariance)\n",
    "\n",
    "    # Create grid for kernel\n",
    "    start = torch.tensor([-5.0], device=device).view(-1, 1)\n",
    "    end = torch.tensor([5.0], device=device).view(-1, 1)\n",
    "    base_linspace = torch.linspace(0, 1, steps=kernel_size, device=device)\n",
    "    ax_batch = start + (end - start) * base_linspace\n",
    "\n",
    "    # Create meshgrid\n",
    "    ax_batch_expanded_x = ax_batch.unsqueeze(-1).expand(-1, -1, kernel_size)\n",
    "    ax_batch_expanded_y = ax_batch.unsqueeze(1).expand(-1, kernel_size, -1)\n",
    "    xx, yy = ax_batch_expanded_x, ax_batch_expanded_y\n",
    "    xy = torch.stack([xx, yy], dim=-1)\n",
    "\n",
    "    # Compute Gaussian kernel\n",
    "    z = torch.einsum('b...i,b...ij,b...j->b...', xy, -0.5 * inv_covariance, xy)\n",
    "    kernel = torch.exp(z) / (2 * torch.tensor(np.pi, device=device) * torch.sqrt(torch.det(covariance)).view(batch_size, 1, 1))\n",
    "\n",
    "    # Normalize the kernel\n",
    "    kernel_max = kernel.view(batch_size, -1).max(dim=1, keepdim=True)[0].view(batch_size, 1, 1)\n",
    "    kernel_normalized = kernel / kernel_max\n",
    "\n",
    "    # Reshape kernel to match channels\n",
    "    kernel_reshaped = kernel_normalized.repeat(1, channels, 1).view(batch_size * channels, kernel_size, kernel_size)\n",
    "    kernel_channels = kernel_reshaped.unsqueeze(0).reshape(batch_size, channels, kernel_size, kernel_size)\n",
    "\n",
    "    # Calculate padding\n",
    "    pad_h = image_size[0] - kernel_size\n",
    "    pad_w = image_size[1] - kernel_size\n",
    "\n",
    "    if pad_h < 0 or pad_w < 0:\n",
    "        raise ValueError(\"Kernel size should be smaller or equal to the image size.\")\n",
    "\n",
    "    padding = (pad_w // 2, pad_w // 2 + pad_w % 2,\n",
    "               pad_h // 2, pad_h // 2 + pad_h % 2)\n",
    "\n",
    "    kernel_padded = F.pad(kernel_channels, padding, \"constant\", 0)\n",
    "\n",
    "    # Create affine transformation\n",
    "    b, c, h, w = kernel_padded.shape\n",
    "    theta = torch.zeros(b, 2, 3, dtype=torch.float32, device=device)\n",
    "    theta[:, 0, 0] = 1.0\n",
    "    theta[:, 1, 1] = 1.0\n",
    "    theta[:, :, 2] = coords\n",
    "\n",
    "    # Apply affine transformation\n",
    "    grid = F.affine_grid(theta, size=(b, c, h, w), align_corners=True)\n",
    "    kernel_transformed = F.grid_sample(kernel_padded, grid, align_corners=True)\n",
    "\n",
    "    # Multiply by color values\n",
    "    colours_reshaped = colours.unsqueeze(-1).unsqueeze(-1)\n",
    "    final_image_layers = colours_reshaped * kernel_transformed\n",
    "\n",
    "    # Sum layers to form final image\n",
    "    final_image = final_image_layers.sum(dim=0)\n",
    "    final_image = torch.clamp(final_image, 0, 1)\n",
    "    final_image = final_image.permute(1, 2, 0)  # Shape: [H, W, channels]\n",
    "\n",
    "    return final_image\n"
   ]
  },
  {
   "cell_type": "code",
   "execution_count": 4,
   "id": "16fd0f56",
   "metadata": {},
   "outputs": [],
   "source": [
    "def create_window(window_size, channel):\n",
    "    def gaussian(window_size, sigma):\n",
    "        gauss = torch.exp(torch.tensor([-(x - window_size//2)**2/float(2*sigma**2) for x in range(window_size)]))\n",
    "        return gauss/gauss.sum()\n",
    "\n",
    "    _1D_window = gaussian(window_size, 1.5).unsqueeze(1)\n",
    "    _2D_window = _1D_window.mm(_1D_window.t()).float().unsqueeze(0).unsqueeze(0)\n",
    "    window = torch.autograd.Variable(_2D_window.expand(channel, 1, window_size, window_size).contiguous())\n",
    "\n",
    "    return window\n",
    "\n",
    "\n",
    "\n",
    "def ssim(img1, img2, window_size=11, size_average=True):\n",
    "\n",
    "\n",
    "    # Assuming the image is of shape [N, C, H, W]\n",
    "    (_, _, channel) = img1.size()\n",
    "\n",
    "    img1 = img1.unsqueeze(0).permute(0, 3, 1, 2)\n",
    "    img2 = img2.unsqueeze(0).permute(0, 3, 1, 2)\n",
    "\n",
    "\n",
    "    # Parameters for SSIM\n",
    "    C1 = 0.01**2\n",
    "    C2 = 0.03**2\n",
    "\n",
    "    window = create_window(window_size, channel)\n",
    "\n",
    "    if img1.is_cuda:\n",
    "        window = window.cuda(img1.get_device())\n",
    "    window = window.type_as(img1)\n",
    "\n",
    "    mu1 = F.conv2d(img1, window, padding=window_size//2, groups=channel)\n",
    "    mu2 = F.conv2d(img2, window, padding=window_size//2, groups=channel)\n",
    "    mu1_sq = mu1.pow(2)\n",
    "    mu2_sq = mu2.pow(2)\n",
    "    mu1_mu2 = mu1 * mu2\n",
    "\n",
    "    sigma1_sq = F.conv2d(img1*img1, window, padding=window_size//2, groups=channel) - mu1_sq\n",
    "    sigma2_sq = F.conv2d(img2*img2, window, padding=window_size//2, groups=channel) - mu2_sq\n",
    "    sigma12 = F.conv2d(img1*img2, window, padding=window_size//2, groups=channel) - mu1_mu2\n",
    "\n",
    "    SSIM_numerator = ((2*mu1_mu2 + C1)*(2*sigma12 + C2))\n",
    "    SSIM_denominator = ((mu1_sq + mu2_sq + C1)*(sigma1_sq + sigma2_sq + C2))\n",
    "    SSIM = SSIM_numerator / SSIM_denominator\n",
    "\n",
    "    return torch.clamp((1 - SSIM) / 2, 0, 1)\n",
    "\n",
    "def d_ssim_loss(img1, img2, window_size=11, size_average=True):\n",
    "    return ssim(img1, img2, window_size, size_average).mean()\n",
    "\n",
    "# Combined Loss\n",
    "def combined_loss(pred, target, lambda_param=0.5):\n",
    "    l1loss = nn.L1Loss()\n",
    "    return (1 - lambda_param) * l1loss(pred, target) + lambda_param * d_ssim_loss(pred, target)"
   ]
  },
  {
   "cell_type": "code",
   "execution_count": 3,
   "id": "3b0af7eb",
   "metadata": {},
   "outputs": [],
   "source": [
    "def give_required_data(input_coords, image_size):\n",
    "\n",
    "  # normalising pixel coordinates [-1,1]\n",
    "  coords = torch.tensor(input_coords / [image_size[0],image_size[1]], device=device).float()\n",
    "  center_coords_normalized = torch.tensor([0.5, 0.5], device=device).float()\n",
    "  coords = (center_coords_normalized - coords) * 2.0\n",
    "\n",
    "  # Fetching the colour of the pixels in each coordinates\n",
    "  colour_values = [image_array[coord[1], coord[0]] for coord in input_coords]\n",
    "  colour_values_np = np.array(colour_values)\n",
    "  colour_values_tensor =  torch.tensor(colour_values_np, device=device).float()\n",
    "\n",
    "  return colour_values_tensor, coords"
   ]
  },
  {
   "cell_type": "code",
   "execution_count": 9,
   "id": "94a8fe9a",
   "metadata": {
    "execution": {
     "iopub.execute_input": "2024-10-18T11:44:25.530418Z",
     "iopub.status.busy": "2024-10-18T11:44:25.529761Z",
     "iopub.status.idle": "2024-10-18T11:45:12.146357Z",
     "shell.execute_reply": "2024-10-18T11:45:12.145286Z"
    },
    "papermill": {
     "duration": 46.626229,
     "end_time": "2024-10-18T11:45:12.150114",
     "exception": false,
     "start_time": "2024-10-18T11:44:25.523885",
     "status": "completed"
    },
    "tags": []
   },
   "outputs": [
    {
     "name": "stdout",
     "output_type": "stream",
     "text": [
      "Epoch 1/500, Loss: 0.07118282467126846\n"
     ]
    },
    {
     "data": {
      "image/png": "[encoded data removed]",
      "text/plain": [
       "<Figure size 640x480 with 1 Axes>"
      ]
     },
     "metadata": {},
     "output_type": "display_data"
    },
    {
     "name": "stdout",
     "output_type": "stream",
     "text": [
      "Epoch 51/500, Loss: 0.001022644923068583\n"
     ]
    },
    {
     "data": {
      "image/png": "[encoded data removed]",
      "text/plain": [
       "<Figure size 640x480 with 1 Axes>"
      ]
     },
     "metadata": {},
     "output_type": "display_data"
    },
    {
     "name": "stdout",
     "output_type": "stream",
     "text": [
      "Epoch 101/500, Loss: 0.0006023799651302397\n"
     ]
    },
    {
     "data": {
      "image/png": "[encoded data removed]",
      "text/plain": [
       "<Figure size 640x480 with 1 Axes>"
      ]
     },
     "metadata": {},
     "output_type": "display_data"
    },
    {
     "name": "stdout",
     "output_type": "stream",
     "text": [
      "Epoch 151/500, Loss: 0.000602307147346437\n"
     ]
    },
    {
     "data": {
      "image/png": "[encoded data removed]",
      "text/plain": [
       "<Figure size 640x480 with 1 Axes>"
      ]
     },
     "metadata": {},
     "output_type": "display_data"
    },
    {
     "name": "stdout",
     "output_type": "stream",
     "text": [
      "Epoch 201/500, Loss: 0.0007240751874633133\n"
     ]
    },
    {
     "data": {
      "image/png": "[encoded data removed]",
      "text/plain": [
       "<Figure size 640x480 with 1 Axes>"
      ]
     },
     "metadata": {},
     "output_type": "display_data"
    },
    {
     "name": "stdout",
     "output_type": "stream",
     "text": [
      "Epoch 251/500, Loss: 0.0010100454092025757\n"
     ]
    },
    {
     "data": {
      "image/png": "[encoded data removed]",
      "text/plain": [
       "<Figure size 640x480 with 1 Axes>"
      ]
     },
     "metadata": {},
     "output_type": "display_data"
    },
    {
     "name": "stdout",
     "output_type": "stream",
     "text": [
      "Epoch 301/500, Loss: 0.0007939383503980935\n"
     ]
    },
    {
     "data": {
      "image/png": "[encoded data removed]",
      "text/plain": [
       "<Figure size 640x480 with 1 Axes>"
      ]
     },
     "metadata": {},
     "output_type": "display_data"
    },
    {
     "name": "stdout",
     "output_type": "stream",
     "text": [
      "Epoch 351/500, Loss: 0.0007783272303640842\n"
     ]
    },
    {
     "data": {
      "image/png": "[encoded data removed]",
      "text/plain": [
       "<Figure size 640x480 with 1 Axes>"
      ]
     },
     "metadata": {},
     "output_type": "display_data"
    },
    {
     "name": "stdout",
     "output_type": "stream",
     "text": [
      "Epoch 401/500, Loss: 0.0007706644828431308\n"
     ]
    },
    {
     "data": {
      "image/png": "[encoded data removed]",
      "text/plain": [
       "<Figure size 640x480 with 1 Axes>"
      ]
     },
     "metadata": {},
     "output_type": "display_data"
    },
    {
     "name": "stdout",
     "output_type": "stream",
     "text": [
      "Epoch 451/500, Loss: 0.0005143968155607581\n"
     ]
    },
    {
     "data": {
      "image/png": "[encoded data removed]",
      "text/plain": [
       "<Figure size 640x480 with 1 Axes>"
      ]
     },
     "metadata": {},
     "output_type": "display_data"
    },
    {
     "name": "stdout",
     "output_type": "stream",
     "text": [
      "Epoch 500/500, Loss: 0.001209788490086794\n"
     ]
    },
    {
     "data": {
      "image/png": "[encoded data removed]",
      "text/plain": [
       "<Figure size 640x480 with 1 Axes>"
      ]
     },
     "metadata": {},
     "output_type": "display_data"
    }
   ],
   "source": [
    "import torch.nn as nn\n",
    "import numpy as np\n",
    "import matplotlib.pyplot as plt\n",
    "import gc\n",
    "from torch.optim import Adam\n",
    "\n",
    "# Prepare the image\n",
    "mnist_image = mnist_image.to(device)  # Shape: [1, 28, 28]\n",
    "mnist_image = mnist_image.squeeze(0)  # Shape: [28, 28]\n",
    "image_size = mnist_image.shape  # (28, 28)\n",
    "target_tensor = mnist_image  # Ground truth\n",
    "\n",
    "# Get non-zero pixel coordinates and values\n",
    "# Filter out background pixels from mnist_image\n",
    "coords = torch.nonzero(mnist_image > 0.1)  # coords shape: [num_coords, 2] for (row, column) pairs\n",
    "\n",
    "# Set the number of random coordinates you want to choose\n",
    "n = 50\n",
    "\n",
    "# Ensure n is not larger than the number of available coordinates\n",
    "n = min(n, coords.shape[0])\n",
    "\n",
    "# Select n random indices from the available coordinates\n",
    "random_indices = torch.randperm(coords.shape[0])[:n]\n",
    "\n",
    "# Get the randomly selected coordinates\n",
    "coords = coords[random_indices]\n",
    "num_samples = coords.shape[0]\n",
    "\n",
    "\n",
    "# Get pixel values at these coordinates\n",
    "colour_values = mnist_image[coords[:, 0], coords[:, 1]].unsqueeze(1)  # Shape: [num_samples, 1]\n",
    "\n",
    "# Normalize coordinates to [-1, 1]\n",
    "coords_normalized = coords.float()\n",
    "coords_normalized[:, 0] = (coords_normalized[:, 0] / (image_size[0] - 1)) * 2 - 1\n",
    "coords_normalized[:, 1] = (coords_normalized[:, 1] / (image_size[1] - 1)) * 2 - 1\n",
    "coords_normalized = coords_normalized.to(device)\n",
    "\n",
    "# Initialize Gaussian parameters\n",
    "sigma_values = torch.rand(num_samples, 2, device=device) * 0.5 + 0.5  # Sigmas between 0.5 and 1.0\n",
    "rho_values = torch.zeros(num_samples, 1, device=device)  # No correlation\n",
    "alpha_values = torch.ones(num_samples, 1, device=device)  # Full opacity\n",
    "W_values = torch.cat([sigma_values, rho_values, alpha_values, colour_values, coords_normalized], dim=1)\n",
    "\n",
    "\n",
    "# Create parameter for optimization\n",
    "W = nn.Parameter(W_values)\n",
    "optimizer = Adam([W], lr=0.1)\n",
    "\n",
    "# Training loop parameters\n",
    "num_epochs = 500\n",
    "loss_history = []\n",
    "KERNEL_SIZE = 9  # Adjusted for smaller image\n",
    "channels = 1  # Grayscale\n",
    "\n",
    "# Training loop\n",
    "for epoch in range(num_epochs):\n",
    "    gc.collect()\n",
    "    torch.cuda.empty_cache()\n",
    "\n",
    "    output = W\n",
    "\n",
    "    batch_size = output.shape[0]\n",
    "\n",
    "    sigma_x = torch.sigmoid(output[:, 0])\n",
    "    sigma_y = torch.sigmoid(output[:, 1])\n",
    "    rho = torch.tanh(output[:, 2])\n",
    "    alpha = torch.sigmoid(output[:, 3])\n",
    "    colours = torch.clamp(output[:, 4:5], 0, 1)\n",
    "    pixel_coords = output[:, 5:7]\n",
    "\n",
    "    colours_with_alpha = colours * alpha.view(batch_size, 1)\n",
    "    g_tensor_batch = generate_2D_gaussian_splatting(\n",
    "        KERNEL_SIZE,\n",
    "        sigma_x,\n",
    "        sigma_y,\n",
    "        rho,\n",
    "        pixel_coords,\n",
    "        colours_with_alpha,\n",
    "        image_size,\n",
    "        channels=channels,\n",
    "        device=device\n",
    "    )\n",
    "\n",
    "    # Compute loss\n",
    "    loss = nn.MSELoss()(g_tensor_batch.squeeze(), target_tensor)\n",
    "\n",
    "    optimizer.zero_grad()\n",
    "    loss.backward()\n",
    "    optimizer.step()\n",
    "\n",
    "    loss_history.append(loss.item())\n",
    "\n",
    "    if epoch % 50 == 0 or epoch == num_epochs - 1:\n",
    "        print(f\"Epoch {epoch+1}/{num_epochs}, Loss: {loss.item()}\")\n",
    "\n",
    "        # Visualize the reconstructed image\n",
    "        plt.imshow(g_tensor_batch.cpu().detach().numpy().squeeze(), cmap='gray')\n",
    "        plt.title(f'Epoch {epoch+1}')\n",
    "        plt.axis('off')\n",
    "        plt.show()\n"
   ]
  },
  {
   "cell_type": "code",
   "execution_count": 4,
   "id": "54e724b6",
   "metadata": {
    "execution": {
     "iopub.execute_input": "2024-10-18T11:45:12.167822Z",
     "iopub.status.busy": "2024-10-18T11:45:12.167120Z",
     "iopub.status.idle": "2024-10-18T11:45:12.175300Z",
     "shell.execute_reply": "2024-10-18T11:45:12.174165Z"
    },
    "papermill": {
     "duration": 0.019177,
     "end_time": "2024-10-18T11:45:12.177378",
     "exception": false,
     "start_time": "2024-10-18T11:45:12.158201",
     "status": "completed"
    },
    "tags": []
   },
   "outputs": [
    {
     "name": "stdout",
     "output_type": "stream",
     "text": [
      "Gaussian representation saved to 'mnist_gaussian_representation.pt'\n"
     ]
    }
   ],
   "source": [
    "# Save the Gaussian representation\n",
    "torch.save(W.detach().cpu(), 'mnist_gaussian_representation.pt')\n",
    "print(\"Gaussian representation saved to 'mnist_gaussian_representation.pt'\")\n"
   ]
  },
  {
   "cell_type": "code",
   "execution_count": 5,
   "id": "dcc00603",
   "metadata": {
    "execution": {
     "iopub.execute_input": "2024-10-18T11:45:12.195722Z",
     "iopub.status.busy": "2024-10-18T11:45:12.195401Z",
     "iopub.status.idle": "2024-10-18T11:45:12.359329Z",
     "shell.execute_reply": "2024-10-18T11:45:12.358271Z"
    },
    "papermill": {
     "duration": 0.175384,
     "end_time": "2024-10-18T11:45:12.361948",
     "exception": false,
     "start_time": "2024-10-18T11:45:12.186564",
     "status": "completed"
    },
    "tags": []
   },
   "outputs": [
    {
     "data": {
      "image/png": "[encoded data removed]",
      "text/plain": [
       "<Figure size 800x400 with 2 Axes>"
      ]
     },
     "metadata": {},
     "output_type": "display_data"
    }
   ],
   "source": [
    "# Generate the final image using the trained parameters\n",
    "with torch.no_grad():\n",
    "    sigma_x = torch.sigmoid(W[:, 0])\n",
    "    sigma_y = torch.sigmoid(W[:, 1])\n",
    "    rho = torch.tanh(W[:, 2])\n",
    "    alpha = torch.sigmoid(W[:, 3])\n",
    "    colours = torch.clamp(W[:, 4:5], 0, 1)\n",
    "    pixel_coords = W[:, 5:7]\n",
    "    colours_with_alpha = colours * alpha.view(batch_size, 1)\n",
    "\n",
    "    final_image = generate_2D_gaussian_splatting(\n",
    "        KERNEL_SIZE,\n",
    "        sigma_x,\n",
    "        sigma_y,\n",
    "        rho,\n",
    "        pixel_coords,\n",
    "        colours_with_alpha,\n",
    "        image_size,\n",
    "        channels=channels,\n",
    "        device=device\n",
    "    )\n",
    "\n",
    "# Plot original and reconstructed images\n",
    "plt.figure(figsize=(8, 4))\n",
    "\n",
    "plt.subplot(1, 2, 1)\n",
    "plt.imshow(target_tensor.cpu().numpy(), cmap='gray')\n",
    "plt.title('Original MNIST Image')\n",
    "plt.axis('off')\n",
    "\n",
    "plt.subplot(1, 2, 2)\n",
    "plt.imshow(final_image.cpu().numpy().squeeze(), cmap='gray')\n",
    "plt.title('Reconstructed Image')\n",
    "plt.axis('off')\n",
    "\n",
    "plt.show()"
   ]
  }
 ],
 "metadata": {
  "kaggle": {
   "accelerator": "gpu",
   "dataSources": [],
   "isGpuEnabled": true,
   "isInternetEnabled": true,
   "language": "python",
   "sourceType": "notebook"
  },
  "kernelspec": {
   "display_name": "base",
   "language": "python",
   "name": "python3"
  },
  "language_info": {
   "codemirror_mode": {
    "name": "ipython",
    "version": 3
   },
   "file_extension": ".py",
   "mimetype": "text/x-python",
   "name": "python",
   "nbconvert_exporter": "python",
   "pygments_lexer": "ipython3",
   "version": "3.11.7"
  },
  "papermill": {
   "default_parameters": {},
   "duration": 60.022322,
   "end_time": "2024-10-18T11:45:13.691840",
   "environment_variables": {},
   "exception": null,
   "input_path": "__notebook__.ipynb",
   "output_path": "__notebook__.ipynb",
   "parameters": {},
   "start_time": "2024-10-18T11:44:13.669518",
   "version": "2.6.0"
  }
 },
 "nbformat": 4,
 "nbformat_minor": 5
}
